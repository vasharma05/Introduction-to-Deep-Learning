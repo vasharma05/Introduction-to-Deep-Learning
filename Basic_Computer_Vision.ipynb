{
  "nbformat": 4,
  "nbformat_minor": 0,
  "metadata": {
    "colab": {
      "name": "Basic Computer Vision.ipynb",
      "provenance": [],
      "include_colab_link": true
    },
    "kernelspec": {
      "name": "python3",
      "display_name": "Python 3"
    },
    "accelerator": "GPU"
  },
  "cells": [
    {
      "cell_type": "markdown",
      "metadata": {
        "id": "view-in-github",
        "colab_type": "text"
      },
      "source": [
        "<a href=\"https://colab.research.google.com/github/vasharma05/Introduction-to-Deep-Learning/blob/master/Basic_Computer_Vision.ipynb\" target=\"_parent\"><img src=\"https://colab.research.google.com/assets/colab-badge.svg\" alt=\"Open In Colab\"/></a>"
      ]
    },
    {
      "cell_type": "code",
      "metadata": {
        "id": "PwfCiQrBTJsO",
        "colab_type": "code",
        "colab": {
          "base_uri": "https://localhost:8080/",
          "height": 462
        },
        "outputId": "dbcadb3f-ecb9-4c86-f34c-b9e3d281707c"
      },
      "source": [
        "!pip install -U tensorflow_datasets"
      ],
      "execution_count": 1,
      "outputs": [
        {
          "output_type": "stream",
          "text": [
            "Collecting tensorflow_datasets\n",
            "\u001b[?25l  Downloading https://files.pythonhosted.org/packages/6c/34/ff424223ed4331006aaa929efc8360b6459d427063dc59fc7b75d7e4bab3/tensorflow_datasets-1.2.0-py3-none-any.whl (2.3MB)\n",
            "\r\u001b[K     |▏                               | 10kB 13.2MB/s eta 0:00:01\r\u001b[K     |▎                               | 20kB 4.6MB/s eta 0:00:01\r\u001b[K     |▍                               | 30kB 6.5MB/s eta 0:00:01\r\u001b[K     |▋                               | 40kB 4.1MB/s eta 0:00:01\r\u001b[K     |▊                               | 51kB 5.1MB/s eta 0:00:01\r\u001b[K     |▉                               | 61kB 6.0MB/s eta 0:00:01\r\u001b[K     |█                               | 71kB 6.8MB/s eta 0:00:01\r\u001b[K     |█▏                              | 81kB 7.7MB/s eta 0:00:01\r\u001b[K     |█▎                              | 92kB 8.5MB/s eta 0:00:01\r\u001b[K     |█▌                              | 102kB 6.7MB/s eta 0:00:01\r\u001b[K     |█▋                              | 112kB 6.7MB/s eta 0:00:01\r\u001b[K     |█▊                              | 122kB 6.7MB/s eta 0:00:01\r\u001b[K     |█▉                              | 133kB 6.7MB/s eta 0:00:01\r\u001b[K     |██                              | 143kB 6.7MB/s eta 0:00:01\r\u001b[K     |██▏                             | 153kB 6.7MB/s eta 0:00:01\r\u001b[K     |██▎                             | 163kB 6.7MB/s eta 0:00:01\r\u001b[K     |██▌                             | 174kB 6.7MB/s eta 0:00:01\r\u001b[K     |██▋                             | 184kB 6.7MB/s eta 0:00:01\r\u001b[K     |██▊                             | 194kB 6.7MB/s eta 0:00:01\r\u001b[K     |███                             | 204kB 6.7MB/s eta 0:00:01\r\u001b[K     |███                             | 215kB 6.7MB/s eta 0:00:01\r\u001b[K     |███▏                            | 225kB 6.7MB/s eta 0:00:01\r\u001b[K     |███▎                            | 235kB 6.7MB/s eta 0:00:01\r\u001b[K     |███▌                            | 245kB 6.7MB/s eta 0:00:01\r\u001b[K     |███▋                            | 256kB 6.7MB/s eta 0:00:01\r\u001b[K     |███▊                            | 266kB 6.7MB/s eta 0:00:01\r\u001b[K     |████                            | 276kB 6.7MB/s eta 0:00:01\r\u001b[K     |████                            | 286kB 6.7MB/s eta 0:00:01\r\u001b[K     |████▏                           | 296kB 6.7MB/s eta 0:00:01\r\u001b[K     |████▍                           | 307kB 6.7MB/s eta 0:00:01\r\u001b[K     |████▌                           | 317kB 6.7MB/s eta 0:00:01\r\u001b[K     |████▋                           | 327kB 6.7MB/s eta 0:00:01\r\u001b[K     |████▉                           | 337kB 6.7MB/s eta 0:00:01\r\u001b[K     |█████                           | 348kB 6.7MB/s eta 0:00:01\r\u001b[K     |█████                           | 358kB 6.7MB/s eta 0:00:01\r\u001b[K     |█████▏                          | 368kB 6.7MB/s eta 0:00:01\r\u001b[K     |█████▍                          | 378kB 6.7MB/s eta 0:00:01\r\u001b[K     |█████▌                          | 389kB 6.7MB/s eta 0:00:01\r\u001b[K     |█████▋                          | 399kB 6.7MB/s eta 0:00:01\r\u001b[K     |█████▉                          | 409kB 6.7MB/s eta 0:00:01\r\u001b[K     |██████                          | 419kB 6.7MB/s eta 0:00:01\r\u001b[K     |██████                          | 430kB 6.7MB/s eta 0:00:01\r\u001b[K     |██████▎                         | 440kB 6.7MB/s eta 0:00:01\r\u001b[K     |██████▍                         | 450kB 6.7MB/s eta 0:00:01\r\u001b[K     |██████▌                         | 460kB 6.7MB/s eta 0:00:01\r\u001b[K     |██████▋                         | 471kB 6.7MB/s eta 0:00:01\r\u001b[K     |██████▉                         | 481kB 6.7MB/s eta 0:00:01\r\u001b[K     |███████                         | 491kB 6.7MB/s eta 0:00:01\r\u001b[K     |███████                         | 501kB 6.7MB/s eta 0:00:01\r\u001b[K     |███████▎                        | 512kB 6.7MB/s eta 0:00:01\r\u001b[K     |███████▍                        | 522kB 6.7MB/s eta 0:00:01\r\u001b[K     |███████▌                        | 532kB 6.7MB/s eta 0:00:01\r\u001b[K     |███████▊                        | 542kB 6.7MB/s eta 0:00:01\r\u001b[K     |███████▉                        | 552kB 6.7MB/s eta 0:00:01\r\u001b[K     |████████                        | 563kB 6.7MB/s eta 0:00:01\r\u001b[K     |████████▏                       | 573kB 6.7MB/s eta 0:00:01\r\u001b[K     |████████▎                       | 583kB 6.7MB/s eta 0:00:01\r\u001b[K     |████████▍                       | 593kB 6.7MB/s eta 0:00:01\r\u001b[K     |████████▌                       | 604kB 6.7MB/s eta 0:00:01\r\u001b[K     |████████▊                       | 614kB 6.7MB/s eta 0:00:01\r\u001b[K     |████████▉                       | 624kB 6.7MB/s eta 0:00:01\r\u001b[K     |█████████                       | 634kB 6.7MB/s eta 0:00:01\r\u001b[K     |█████████▏                      | 645kB 6.7MB/s eta 0:00:01\r\u001b[K     |█████████▎                      | 655kB 6.7MB/s eta 0:00:01\r\u001b[K     |█████████▍                      | 665kB 6.7MB/s eta 0:00:01\r\u001b[K     |█████████▋                      | 675kB 6.7MB/s eta 0:00:01\r\u001b[K     |█████████▊                      | 686kB 6.7MB/s eta 0:00:01\r\u001b[K     |█████████▉                      | 696kB 6.7MB/s eta 0:00:01\r\u001b[K     |██████████                      | 706kB 6.7MB/s eta 0:00:01\r\u001b[K     |██████████▏                     | 716kB 6.7MB/s eta 0:00:01\r\u001b[K     |██████████▎                     | 727kB 6.7MB/s eta 0:00:01\r\u001b[K     |██████████▍                     | 737kB 6.7MB/s eta 0:00:01\r\u001b[K     |██████████▋                     | 747kB 6.7MB/s eta 0:00:01\r\u001b[K     |██████████▊                     | 757kB 6.7MB/s eta 0:00:01\r\u001b[K     |██████████▉                     | 768kB 6.7MB/s eta 0:00:01\r\u001b[K     |███████████                     | 778kB 6.7MB/s eta 0:00:01\r\u001b[K     |███████████▏                    | 788kB 6.7MB/s eta 0:00:01\r\u001b[K     |███████████▎                    | 798kB 6.7MB/s eta 0:00:01\r\u001b[K     |███████████▌                    | 808kB 6.7MB/s eta 0:00:01\r\u001b[K     |███████████▋                    | 819kB 6.7MB/s eta 0:00:01\r\u001b[K     |███████████▊                    | 829kB 6.7MB/s eta 0:00:01\r\u001b[K     |███████████▉                    | 839kB 6.7MB/s eta 0:00:01\r\u001b[K     |████████████                    | 849kB 6.7MB/s eta 0:00:01\r\u001b[K     |████████████▏                   | 860kB 6.7MB/s eta 0:00:01\r\u001b[K     |████████████▎                   | 870kB 6.7MB/s eta 0:00:01\r\u001b[K     |████████████▌                   | 880kB 6.7MB/s eta 0:00:01\r\u001b[K     |████████████▋                   | 890kB 6.7MB/s eta 0:00:01\r\u001b[K     |████████████▊                   | 901kB 6.7MB/s eta 0:00:01\r\u001b[K     |█████████████                   | 911kB 6.7MB/s eta 0:00:01\r\u001b[K     |█████████████                   | 921kB 6.7MB/s eta 0:00:01\r\u001b[K     |█████████████▏                  | 931kB 6.7MB/s eta 0:00:01\r\u001b[K     |█████████████▎                  | 942kB 6.7MB/s eta 0:00:01\r\u001b[K     |█████████████▌                  | 952kB 6.7MB/s eta 0:00:01\r\u001b[K     |█████████████▋                  | 962kB 6.7MB/s eta 0:00:01\r\u001b[K     |█████████████▊                  | 972kB 6.7MB/s eta 0:00:01\r\u001b[K     |██████████████                  | 983kB 6.7MB/s eta 0:00:01\r\u001b[K     |██████████████                  | 993kB 6.7MB/s eta 0:00:01\r\u001b[K     |██████████████▏                 | 1.0MB 6.7MB/s eta 0:00:01\r\u001b[K     |██████████████▍                 | 1.0MB 6.7MB/s eta 0:00:01\r\u001b[K     |██████████████▌                 | 1.0MB 6.7MB/s eta 0:00:01\r\u001b[K     |██████████████▋                 | 1.0MB 6.7MB/s eta 0:00:01\r\u001b[K     |██████████████▉                 | 1.0MB 6.7MB/s eta 0:00:01\r\u001b[K     |███████████████                 | 1.1MB 6.7MB/s eta 0:00:01\r\u001b[K     |███████████████                 | 1.1MB 6.7MB/s eta 0:00:01\r\u001b[K     |███████████████▏                | 1.1MB 6.7MB/s eta 0:00:01\r\u001b[K     |███████████████▍                | 1.1MB 6.7MB/s eta 0:00:01\r\u001b[K     |███████████████▌                | 1.1MB 6.7MB/s eta 0:00:01\r\u001b[K     |███████████████▋                | 1.1MB 6.7MB/s eta 0:00:01\r\u001b[K     |███████████████▉                | 1.1MB 6.7MB/s eta 0:00:01\r\u001b[K     |████████████████                | 1.1MB 6.7MB/s eta 0:00:01\r\u001b[K     |████████████████                | 1.1MB 6.7MB/s eta 0:00:01\r\u001b[K     |████████████████▎               | 1.1MB 6.7MB/s eta 0:00:01\r\u001b[K     |████████████████▍               | 1.2MB 6.7MB/s eta 0:00:01\r\u001b[K     |████████████████▌               | 1.2MB 6.7MB/s eta 0:00:01\r\u001b[K     |████████████████▋               | 1.2MB 6.7MB/s eta 0:00:01\r\u001b[K     |████████████████▉               | 1.2MB 6.7MB/s eta 0:00:01\r\u001b[K     |█████████████████               | 1.2MB 6.7MB/s eta 0:00:01\r\u001b[K     |█████████████████               | 1.2MB 6.7MB/s eta 0:00:01\r\u001b[K     |█████████████████▎              | 1.2MB 6.7MB/s eta 0:00:01\r\u001b[K     |█████████████████▍              | 1.2MB 6.7MB/s eta 0:00:01\r\u001b[K     |█████████████████▌              | 1.2MB 6.7MB/s eta 0:00:01\r\u001b[K     |█████████████████▊              | 1.2MB 6.7MB/s eta 0:00:01\r\u001b[K     |█████████████████▉              | 1.3MB 6.7MB/s eta 0:00:01\r\u001b[K     |██████████████████              | 1.3MB 6.7MB/s eta 0:00:01\r\u001b[K     |██████████████████▏             | 1.3MB 6.7MB/s eta 0:00:01\r\u001b[K     |██████████████████▎             | 1.3MB 6.7MB/s eta 0:00:01\r\u001b[K     |██████████████████▍             | 1.3MB 6.7MB/s eta 0:00:01\r\u001b[K     |██████████████████▌             | 1.3MB 6.7MB/s eta 0:00:01\r\u001b[K     |██████████████████▊             | 1.3MB 6.7MB/s eta 0:00:01\r\u001b[K     |██████████████████▉             | 1.3MB 6.7MB/s eta 0:00:01\r\u001b[K     |███████████████████             | 1.3MB 6.7MB/s eta 0:00:01\r\u001b[K     |███████████████████▏            | 1.4MB 6.7MB/s eta 0:00:01\r\u001b[K     |███████████████████▎            | 1.4MB 6.7MB/s eta 0:00:01\r\u001b[K     |███████████████████▍            | 1.4MB 6.7MB/s eta 0:00:01\r\u001b[K     |███████████████████▋            | 1.4MB 6.7MB/s eta 0:00:01\r\u001b[K     |███████████████████▊            | 1.4MB 6.7MB/s eta 0:00:01\r\u001b[K     |███████████████████▉            | 1.4MB 6.7MB/s eta 0:00:01\r\u001b[K     |████████████████████            | 1.4MB 6.7MB/s eta 0:00:01\r\u001b[K     |████████████████████▏           | 1.4MB 6.7MB/s eta 0:00:01\r\u001b[K     |████████████████████▎           | 1.4MB 6.7MB/s eta 0:00:01\r\u001b[K     |████████████████████▍           | 1.4MB 6.7MB/s eta 0:00:01\r\u001b[K     |████████████████████▋           | 1.5MB 6.7MB/s eta 0:00:01\r\u001b[K     |████████████████████▊           | 1.5MB 6.7MB/s eta 0:00:01\r\u001b[K     |████████████████████▉           | 1.5MB 6.7MB/s eta 0:00:01\r\u001b[K     |█████████████████████           | 1.5MB 6.7MB/s eta 0:00:01\r\u001b[K     |█████████████████████▏          | 1.5MB 6.7MB/s eta 0:00:01\r\u001b[K     |█████████████████████▎          | 1.5MB 6.7MB/s eta 0:00:01\r\u001b[K     |█████████████████████▌          | 1.5MB 6.7MB/s eta 0:00:01\r\u001b[K     |█████████████████████▋          | 1.5MB 6.7MB/s eta 0:00:01\r\u001b[K     |█████████████████████▊          | 1.5MB 6.7MB/s eta 0:00:01\r\u001b[K     |█████████████████████▉          | 1.5MB 6.7MB/s eta 0:00:01\r\u001b[K     |██████████████████████          | 1.6MB 6.7MB/s eta 0:00:01\r\u001b[K     |██████████████████████▏         | 1.6MB 6.7MB/s eta 0:00:01\r\u001b[K     |██████████████████████▎         | 1.6MB 6.7MB/s eta 0:00:01\r\u001b[K     |██████████████████████▌         | 1.6MB 6.7MB/s eta 0:00:01\r\u001b[K     |██████████████████████▋         | 1.6MB 6.7MB/s eta 0:00:01\r\u001b[K     |██████████████████████▊         | 1.6MB 6.7MB/s eta 0:00:01\r\u001b[K     |███████████████████████         | 1.6MB 6.7MB/s eta 0:00:01\r\u001b[K     |███████████████████████         | 1.6MB 6.7MB/s eta 0:00:01\r\u001b[K     |███████████████████████▏        | 1.6MB 6.7MB/s eta 0:00:01\r\u001b[K     |███████████████████████▎        | 1.6MB 6.7MB/s eta 0:00:01\r\u001b[K     |███████████████████████▌        | 1.7MB 6.7MB/s eta 0:00:01\r\u001b[K     |███████████████████████▋        | 1.7MB 6.7MB/s eta 0:00:01\r\u001b[K     |███████████████████████▊        | 1.7MB 6.7MB/s eta 0:00:01\r\u001b[K     |████████████████████████        | 1.7MB 6.7MB/s eta 0:00:01\r\u001b[K     |████████████████████████        | 1.7MB 6.7MB/s eta 0:00:01\r\u001b[K     |████████████████████████▏       | 1.7MB 6.7MB/s eta 0:00:01\r\u001b[K     |████████████████████████▍       | 1.7MB 6.7MB/s eta 0:00:01\r\u001b[K     |████████████████████████▌       | 1.7MB 6.7MB/s eta 0:00:01\r\u001b[K     |████████████████████████▋       | 1.7MB 6.7MB/s eta 0:00:01\r\u001b[K     |████████████████████████▉       | 1.8MB 6.7MB/s eta 0:00:01\r\u001b[K     |█████████████████████████       | 1.8MB 6.7MB/s eta 0:00:01\r\u001b[K     |█████████████████████████       | 1.8MB 6.7MB/s eta 0:00:01\r\u001b[K     |█████████████████████████▏      | 1.8MB 6.7MB/s eta 0:00:01\r\u001b[K     |█████████████████████████▍      | 1.8MB 6.7MB/s eta 0:00:01\r\u001b[K     |█████████████████████████▌      | 1.8MB 6.7MB/s eta 0:00:01\r\u001b[K     |█████████████████████████▋      | 1.8MB 6.7MB/s eta 0:00:01\r\u001b[K     |█████████████████████████▉      | 1.8MB 6.7MB/s eta 0:00:01\r\u001b[K     |██████████████████████████      | 1.8MB 6.7MB/s eta 0:00:01\r\u001b[K     |██████████████████████████      | 1.8MB 6.7MB/s eta 0:00:01\r\u001b[K     |██████████████████████████▎     | 1.9MB 6.7MB/s eta 0:00:01\r\u001b[K     |██████████████████████████▍     | 1.9MB 6.7MB/s eta 0:00:01\r\u001b[K     |██████████████████████████▌     | 1.9MB 6.7MB/s eta 0:00:01\r\u001b[K     |██████████████████████████▋     | 1.9MB 6.7MB/s eta 0:00:01\r\u001b[K     |██████████████████████████▉     | 1.9MB 6.7MB/s eta 0:00:01\r\u001b[K     |███████████████████████████     | 1.9MB 6.7MB/s eta 0:00:01\r\u001b[K     |███████████████████████████     | 1.9MB 6.7MB/s eta 0:00:01\r\u001b[K     |███████████████████████████▎    | 1.9MB 6.7MB/s eta 0:00:01\r\u001b[K     |███████████████████████████▍    | 1.9MB 80kB/s eta 0:00:05\r\u001b[K     |███████████████████████████▌    | 1.9MB 80kB/s eta 0:00:04\r\u001b[K     |███████████████████████████▊    | 2.0MB 80kB/s eta 0:00:04\r\u001b[K     |███████████████████████████▉    | 2.0MB 80kB/s eta 0:00:04\r\u001b[K     |████████████████████████████    | 2.0MB 80kB/s eta 0:00:04\r\u001b[K     |████████████████████████████    | 2.0MB 80kB/s eta 0:00:04\r\u001b[K     |████████████████████████████▎   | 2.0MB 80kB/s eta 0:00:04\r\u001b[K     |████████████████████████████▍   | 2.0MB 80kB/s eta 0:00:04\r\u001b[K     |████████████████████████████▌   | 2.0MB 80kB/s eta 0:00:04\r\u001b[K     |████████████████████████████▊   | 2.0MB 80kB/s eta 0:00:03\r\u001b[K     |████████████████████████████▉   | 2.0MB 80kB/s eta 0:00:03\r\u001b[K     |█████████████████████████████   | 2.0MB 80kB/s eta 0:00:03\r\u001b[K     |█████████████████████████████▏  | 2.1MB 80kB/s eta 0:00:03\r\u001b[K     |█████████████████████████████▎  | 2.1MB 80kB/s eta 0:00:03\r\u001b[K     |█████████████████████████████▍  | 2.1MB 80kB/s eta 0:00:03\r\u001b[K     |█████████████████████████████▋  | 2.1MB 80kB/s eta 0:00:03\r\u001b[K     |█████████████████████████████▊  | 2.1MB 80kB/s eta 0:00:03\r\u001b[K     |█████████████████████████████▉  | 2.1MB 80kB/s eta 0:00:02\r\u001b[K     |██████████████████████████████  | 2.1MB 80kB/s eta 0:00:02\r\u001b[K     |██████████████████████████████▏ | 2.1MB 80kB/s eta 0:00:02\r\u001b[K     |██████████████████████████████▎ | 2.1MB 80kB/s eta 0:00:02\r\u001b[K     |██████████████████████████████▍ | 2.2MB 80kB/s eta 0:00:02\r\u001b[K     |██████████████████████████████▋ | 2.2MB 80kB/s eta 0:00:02\r\u001b[K     |██████████████████████████████▊ | 2.2MB 80kB/s eta 0:00:02\r\u001b[K     |██████████████████████████████▉ | 2.2MB 80kB/s eta 0:00:01\r\u001b[K     |███████████████████████████████ | 2.2MB 80kB/s eta 0:00:01\r\u001b[K     |███████████████████████████████▏| 2.2MB 80kB/s eta 0:00:01\r\u001b[K     |███████████████████████████████▎| 2.2MB 80kB/s eta 0:00:01\r\u001b[K     |███████████████████████████████▍| 2.2MB 80kB/s eta 0:00:01\r\u001b[K     |███████████████████████████████▋| 2.2MB 80kB/s eta 0:00:01\r\u001b[K     |███████████████████████████████▊| 2.2MB 80kB/s eta 0:00:01\r\u001b[K     |███████████████████████████████▉| 2.3MB 80kB/s eta 0:00:01\r\u001b[K     |████████████████████████████████| 2.3MB 80kB/s \n",
            "\u001b[?25hRequirement already satisfied: promise in /usr/local/lib/python3.6/dist-packages (from tensorflow_datasets) (2.2.1)\n",
            "Requirement already satisfied: numpy in /usr/local/lib/python3.6/dist-packages (from tensorflow_datasets) (1.16.5)\n",
            "Requirement already satisfied: six in /usr/local/lib/python3.6/dist-packages (from tensorflow_datasets) (1.12.0)\n",
            "Requirement already satisfied: wrapt in /usr/local/lib/python3.6/dist-packages (from tensorflow_datasets) (1.11.2)\n",
            "Requirement already satisfied: attrs in /usr/local/lib/python3.6/dist-packages (from tensorflow_datasets) (19.1.0)\n",
            "Requirement already satisfied: tensorflow-metadata in /usr/local/lib/python3.6/dist-packages (from tensorflow_datasets) (0.14.0)\n",
            "Requirement already satisfied: protobuf>=3.6.1 in /usr/local/lib/python3.6/dist-packages (from tensorflow_datasets) (3.7.1)\n",
            "Requirement already satisfied: absl-py in /usr/local/lib/python3.6/dist-packages (from tensorflow_datasets) (0.8.0)\n",
            "Requirement already satisfied: dill in /usr/local/lib/python3.6/dist-packages (from tensorflow_datasets) (0.3.0)\n",
            "Requirement already satisfied: termcolor in /usr/local/lib/python3.6/dist-packages (from tensorflow_datasets) (1.1.0)\n",
            "Requirement already satisfied: requests>=2.19.0 in /usr/local/lib/python3.6/dist-packages (from tensorflow_datasets) (2.21.0)\n",
            "Requirement already satisfied: tqdm in /usr/local/lib/python3.6/dist-packages (from tensorflow_datasets) (4.28.1)\n",
            "Requirement already satisfied: future in /usr/local/lib/python3.6/dist-packages (from tensorflow_datasets) (0.16.0)\n",
            "Requirement already satisfied: psutil in /usr/local/lib/python3.6/dist-packages (from tensorflow_datasets) (5.4.8)\n",
            "Requirement already satisfied: googleapis-common-protos in /usr/local/lib/python3.6/dist-packages (from tensorflow-metadata->tensorflow_datasets) (1.6.0)\n",
            "Requirement already satisfied: setuptools in /usr/local/lib/python3.6/dist-packages (from protobuf>=3.6.1->tensorflow_datasets) (41.2.0)\n",
            "Requirement already satisfied: certifi>=2017.4.17 in /usr/local/lib/python3.6/dist-packages (from requests>=2.19.0->tensorflow_datasets) (2019.6.16)\n",
            "Requirement already satisfied: chardet<3.1.0,>=3.0.2 in /usr/local/lib/python3.6/dist-packages (from requests>=2.19.0->tensorflow_datasets) (3.0.4)\n",
            "Requirement already satisfied: urllib3<1.25,>=1.21.1 in /usr/local/lib/python3.6/dist-packages (from requests>=2.19.0->tensorflow_datasets) (1.24.3)\n",
            "Requirement already satisfied: idna<2.9,>=2.5 in /usr/local/lib/python3.6/dist-packages (from requests>=2.19.0->tensorflow_datasets) (2.8)\n",
            "Installing collected packages: tensorflow-datasets\n",
            "Successfully installed tensorflow-datasets-1.2.0\n"
          ],
          "name": "stdout"
        }
      ]
    },
    {
      "cell_type": "code",
      "metadata": {
        "id": "cyMYXubBVv2f",
        "colab_type": "code",
        "colab": {}
      },
      "source": [
        "from __future__ import absolute_import, division, print_function"
      ],
      "execution_count": 0,
      "outputs": []
    },
    {
      "cell_type": "code",
      "metadata": {
        "id": "Gawmz857WyOk",
        "colab_type": "code",
        "colab": {
          "base_uri": "https://localhost:8080/",
          "height": 34
        },
        "outputId": "d19d2d87-bba2-4fd9-8372-664034cc9c9c"
      },
      "source": [
        "#Importing Tensorflow and Tensorflow datasets\n",
        "import tensorflow as tf\n",
        "import tensorflow_datasets as tfds\n",
        "tf.logging.set_verbosity(tf.logging.ERROR)\n",
        "\n",
        "#Helper Libraries\n",
        "import math\n",
        "import numpy as np\n",
        "import matplotlib.pyplot as plt\n",
        "\n",
        "#Improve progress bar Display\n",
        "import tqdm\n",
        "import tqdm.auto\n",
        "tqdm.tqdm = tqdm.auto.tqdm\n",
        "\n",
        "print(tf.__version__)\n",
        "tf.enable_eager_execution()"
      ],
      "execution_count": 4,
      "outputs": [
        {
          "output_type": "stream",
          "text": [
            "1.14.0\n"
          ],
          "name": "stdout"
        }
      ]
    },
    {
      "cell_type": "code",
      "metadata": {
        "id": "oF3TuCEeXuyI",
        "colab_type": "code",
        "colab": {}
      },
      "source": [
        "mnist = tf.keras.datasets.fashion_mnist"
      ],
      "execution_count": 0,
      "outputs": []
    },
    {
      "cell_type": "code",
      "metadata": {
        "id": "7tmQGT_vYRif",
        "colab_type": "code",
        "colab": {
          "base_uri": "https://localhost:8080/",
          "height": 156
        },
        "outputId": "33b1cc83-fd3b-41a1-e678-a577d8f370e5"
      },
      "source": [
        "dataset, metadata = tfds.load('fashion_mnist', as_supervised=True, with_info=True)\n",
        "train_dataset, test_dataset = dataset['train'], dataset['test']"
      ],
      "execution_count": 6,
      "outputs": [
        {
          "output_type": "stream",
          "text": [
            "\u001b[1mDownloading and preparing dataset fashion_mnist (29.45 MiB) to /root/tensorflow_datasets/fashion_mnist/1.0.0...\u001b[0m\n"
          ],
          "name": "stdout"
        },
        {
          "output_type": "display_data",
          "data": {
            "application/vnd.jupyter.widget-view+json": {
              "model_id": "665e917dbb4f4aca8ddbb0a9c13fa834",
              "version_minor": 0,
              "version_major": 2
            },
            "text/plain": [
              "HBox(children=(IntProgress(value=1, bar_style='info', description='Dl Completed...', max=1, style=ProgressStyl…"
            ]
          },
          "metadata": {
            "tags": []
          }
        },
        {
          "output_type": "display_data",
          "data": {
            "application/vnd.jupyter.widget-view+json": {
              "model_id": "ca36990d137c4f6c935390a1cd895ce8",
              "version_minor": 0,
              "version_major": 2
            },
            "text/plain": [
              "HBox(children=(IntProgress(value=1, bar_style='info', description='Dl Size...', max=1, style=ProgressStyle(des…"
            ]
          },
          "metadata": {
            "tags": []
          }
        },
        {
          "output_type": "display_data",
          "data": {
            "application/vnd.jupyter.widget-view+json": {
              "model_id": "0cbc7313bc204a59b7377fa35b8e4c1c",
              "version_minor": 0,
              "version_major": 2
            },
            "text/plain": [
              "HBox(children=(IntProgress(value=1, bar_style='info', description='Extraction completed...', max=1, style=Prog…"
            ]
          },
          "metadata": {
            "tags": []
          }
        },
        {
          "output_type": "stream",
          "text": [
            "\n",
            "\n",
            "\n",
            "\n"
          ],
          "name": "stdout"
        },
        {
          "output_type": "display_data",
          "data": {
            "application/vnd.jupyter.widget-view+json": {
              "model_id": "ed1abf6be2524705ab1529bcbd8e6c1b",
              "version_minor": 0,
              "version_major": 2
            },
            "text/plain": [
              "HBox(children=(IntProgress(value=1, bar_style='info', max=1), HTML(value='')))"
            ]
          },
          "metadata": {
            "tags": []
          }
        },
        {
          "output_type": "stream",
          "text": [
            "\r"
          ],
          "name": "stdout"
        },
        {
          "output_type": "display_data",
          "data": {
            "application/vnd.jupyter.widget-view+json": {
              "model_id": "f9c7233527cb43dfb9aee75dbde98538",
              "version_minor": 0,
              "version_major": 2
            },
            "text/plain": [
              "HBox(children=(IntProgress(value=0, description='Shuffling...', max=10, style=ProgressStyle(description_width=…"
            ]
          },
          "metadata": {
            "tags": []
          }
        },
        {
          "output_type": "display_data",
          "data": {
            "application/vnd.jupyter.widget-view+json": {
              "model_id": "0c988d40d52842b79512c6f848ac2836",
              "version_minor": 0,
              "version_major": 2
            },
            "text/plain": [
              "HBox(children=(IntProgress(value=1, bar_style='info', description='Reading...', max=1, style=ProgressStyle(des…"
            ]
          },
          "metadata": {
            "tags": []
          }
        },
        {
          "output_type": "display_data",
          "data": {
            "application/vnd.jupyter.widget-view+json": {
              "model_id": "0c0de6ca0db94ba59216e1ed54ebcf02",
              "version_minor": 0,
              "version_major": 2
            },
            "text/plain": [
              "HBox(children=(IntProgress(value=0, description='Writing...', max=6000, style=ProgressStyle(description_width=…"
            ]
          },
          "metadata": {
            "tags": []
          }
        },
        {
          "output_type": "display_data",
          "data": {
            "application/vnd.jupyter.widget-view+json": {
              "model_id": "aaf2ff292c9c423ab0c4e0b463f659f4",
              "version_minor": 0,
              "version_major": 2
            },
            "text/plain": [
              "HBox(children=(IntProgress(value=1, bar_style='info', description='Reading...', max=1, style=ProgressStyle(des…"
            ]
          },
          "metadata": {
            "tags": []
          }
        },
        {
          "output_type": "display_data",
          "data": {
            "application/vnd.jupyter.widget-view+json": {
              "model_id": "4c096662d09a47cb8a2c9f9d098b19e0",
              "version_minor": 0,
              "version_major": 2
            },
            "text/plain": [
              "HBox(children=(IntProgress(value=0, description='Writing...', max=6000, style=ProgressStyle(description_width=…"
            ]
          },
          "metadata": {
            "tags": []
          }
        },
        {
          "output_type": "display_data",
          "data": {
            "application/vnd.jupyter.widget-view+json": {
              "model_id": "1a847d1014284eccb9e86e0aa44486ee",
              "version_minor": 0,
              "version_major": 2
            },
            "text/plain": [
              "HBox(children=(IntProgress(value=1, bar_style='info', description='Reading...', max=1, style=ProgressStyle(des…"
            ]
          },
          "metadata": {
            "tags": []
          }
        },
        {
          "output_type": "display_data",
          "data": {
            "application/vnd.jupyter.widget-view+json": {
              "model_id": "40dbd597569e4749889b178d833f2caa",
              "version_minor": 0,
              "version_major": 2
            },
            "text/plain": [
              "HBox(children=(IntProgress(value=0, description='Writing...', max=6000, style=ProgressStyle(description_width=…"
            ]
          },
          "metadata": {
            "tags": []
          }
        },
        {
          "output_type": "display_data",
          "data": {
            "application/vnd.jupyter.widget-view+json": {
              "model_id": "51726296119f4807b1fd5ef630f86979",
              "version_minor": 0,
              "version_major": 2
            },
            "text/plain": [
              "HBox(children=(IntProgress(value=1, bar_style='info', description='Reading...', max=1, style=ProgressStyle(des…"
            ]
          },
          "metadata": {
            "tags": []
          }
        },
        {
          "output_type": "display_data",
          "data": {
            "application/vnd.jupyter.widget-view+json": {
              "model_id": "b5d4b369d7ee4303917a87c75a3902bc",
              "version_minor": 0,
              "version_major": 2
            },
            "text/plain": [
              "HBox(children=(IntProgress(value=0, description='Writing...', max=6000, style=ProgressStyle(description_width=…"
            ]
          },
          "metadata": {
            "tags": []
          }
        },
        {
          "output_type": "display_data",
          "data": {
            "application/vnd.jupyter.widget-view+json": {
              "model_id": "740a748127564dcf987ae2db6d2ea2e5",
              "version_minor": 0,
              "version_major": 2
            },
            "text/plain": [
              "HBox(children=(IntProgress(value=1, bar_style='info', description='Reading...', max=1, style=ProgressStyle(des…"
            ]
          },
          "metadata": {
            "tags": []
          }
        },
        {
          "output_type": "display_data",
          "data": {
            "application/vnd.jupyter.widget-view+json": {
              "model_id": "4d3660c37cbf48cdb99c8f5e55403df2",
              "version_minor": 0,
              "version_major": 2
            },
            "text/plain": [
              "HBox(children=(IntProgress(value=0, description='Writing...', max=6000, style=ProgressStyle(description_width=…"
            ]
          },
          "metadata": {
            "tags": []
          }
        },
        {
          "output_type": "display_data",
          "data": {
            "application/vnd.jupyter.widget-view+json": {
              "model_id": "5081646e08b544cf84337704c1dd4a66",
              "version_minor": 0,
              "version_major": 2
            },
            "text/plain": [
              "HBox(children=(IntProgress(value=1, bar_style='info', description='Reading...', max=1, style=ProgressStyle(des…"
            ]
          },
          "metadata": {
            "tags": []
          }
        },
        {
          "output_type": "display_data",
          "data": {
            "application/vnd.jupyter.widget-view+json": {
              "model_id": "7a78bf406abf4438a2179a85460cd31c",
              "version_minor": 0,
              "version_major": 2
            },
            "text/plain": [
              "HBox(children=(IntProgress(value=0, description='Writing...', max=6000, style=ProgressStyle(description_width=…"
            ]
          },
          "metadata": {
            "tags": []
          }
        },
        {
          "output_type": "display_data",
          "data": {
            "application/vnd.jupyter.widget-view+json": {
              "model_id": "cf44978b6b694a1eb633595ba3406438",
              "version_minor": 0,
              "version_major": 2
            },
            "text/plain": [
              "HBox(children=(IntProgress(value=1, bar_style='info', description='Reading...', max=1, style=ProgressStyle(des…"
            ]
          },
          "metadata": {
            "tags": []
          }
        },
        {
          "output_type": "display_data",
          "data": {
            "application/vnd.jupyter.widget-view+json": {
              "model_id": "eb2c5392916b479a9d057a317a564789",
              "version_minor": 0,
              "version_major": 2
            },
            "text/plain": [
              "HBox(children=(IntProgress(value=0, description='Writing...', max=6000, style=ProgressStyle(description_width=…"
            ]
          },
          "metadata": {
            "tags": []
          }
        },
        {
          "output_type": "display_data",
          "data": {
            "application/vnd.jupyter.widget-view+json": {
              "model_id": "06757a0011ed454d99ca426e99a36aca",
              "version_minor": 0,
              "version_major": 2
            },
            "text/plain": [
              "HBox(children=(IntProgress(value=1, bar_style='info', description='Reading...', max=1, style=ProgressStyle(des…"
            ]
          },
          "metadata": {
            "tags": []
          }
        },
        {
          "output_type": "display_data",
          "data": {
            "application/vnd.jupyter.widget-view+json": {
              "model_id": "4d90648054c44a8788cfb8e92a7c1475",
              "version_minor": 0,
              "version_major": 2
            },
            "text/plain": [
              "HBox(children=(IntProgress(value=0, description='Writing...', max=6000, style=ProgressStyle(description_width=…"
            ]
          },
          "metadata": {
            "tags": []
          }
        },
        {
          "output_type": "display_data",
          "data": {
            "application/vnd.jupyter.widget-view+json": {
              "model_id": "48eb80a9421c471487662fc65c764d32",
              "version_minor": 0,
              "version_major": 2
            },
            "text/plain": [
              "HBox(children=(IntProgress(value=1, bar_style='info', description='Reading...', max=1, style=ProgressStyle(des…"
            ]
          },
          "metadata": {
            "tags": []
          }
        },
        {
          "output_type": "display_data",
          "data": {
            "application/vnd.jupyter.widget-view+json": {
              "model_id": "5c6670886f2d49f990e213c6708ad4c0",
              "version_minor": 0,
              "version_major": 2
            },
            "text/plain": [
              "HBox(children=(IntProgress(value=0, description='Writing...', max=6000, style=ProgressStyle(description_width=…"
            ]
          },
          "metadata": {
            "tags": []
          }
        },
        {
          "output_type": "display_data",
          "data": {
            "application/vnd.jupyter.widget-view+json": {
              "model_id": "a8368a12470e40f1aff6ba57a6680e71",
              "version_minor": 0,
              "version_major": 2
            },
            "text/plain": [
              "HBox(children=(IntProgress(value=1, bar_style='info', description='Reading...', max=1, style=ProgressStyle(des…"
            ]
          },
          "metadata": {
            "tags": []
          }
        },
        {
          "output_type": "display_data",
          "data": {
            "application/vnd.jupyter.widget-view+json": {
              "model_id": "524419f1255a4af18dcd3beeeceedd28",
              "version_minor": 0,
              "version_major": 2
            },
            "text/plain": [
              "HBox(children=(IntProgress(value=0, description='Writing...', max=6000, style=ProgressStyle(description_width=…"
            ]
          },
          "metadata": {
            "tags": []
          }
        },
        {
          "output_type": "stream",
          "text": [
            "\r"
          ],
          "name": "stdout"
        },
        {
          "output_type": "display_data",
          "data": {
            "application/vnd.jupyter.widget-view+json": {
              "model_id": "0030854f9c20439b8852a4af98d79d19",
              "version_minor": 0,
              "version_major": 2
            },
            "text/plain": [
              "HBox(children=(IntProgress(value=1, bar_style='info', max=1), HTML(value='')))"
            ]
          },
          "metadata": {
            "tags": []
          }
        },
        {
          "output_type": "stream",
          "text": [
            "\r"
          ],
          "name": "stdout"
        },
        {
          "output_type": "display_data",
          "data": {
            "application/vnd.jupyter.widget-view+json": {
              "model_id": "50fbf2092f444be2b8b8b3107d254325",
              "version_minor": 0,
              "version_major": 2
            },
            "text/plain": [
              "HBox(children=(IntProgress(value=0, description='Shuffling...', max=1, style=ProgressStyle(description_width='…"
            ]
          },
          "metadata": {
            "tags": []
          }
        },
        {
          "output_type": "display_data",
          "data": {
            "application/vnd.jupyter.widget-view+json": {
              "model_id": "99beb8277ba4434c94bc34882764b90f",
              "version_minor": 0,
              "version_major": 2
            },
            "text/plain": [
              "HBox(children=(IntProgress(value=1, bar_style='info', description='Reading...', max=1, style=ProgressStyle(des…"
            ]
          },
          "metadata": {
            "tags": []
          }
        },
        {
          "output_type": "display_data",
          "data": {
            "application/vnd.jupyter.widget-view+json": {
              "model_id": "d895cf7862c549cd8794cc174a61b17f",
              "version_minor": 0,
              "version_major": 2
            },
            "text/plain": [
              "HBox(children=(IntProgress(value=0, description='Writing...', max=10000, style=ProgressStyle(description_width…"
            ]
          },
          "metadata": {
            "tags": []
          }
        },
        {
          "output_type": "stream",
          "text": [
            "\r\u001b[1mDataset fashion_mnist downloaded and prepared to /root/tensorflow_datasets/fashion_mnist/1.0.0. Subsequent calls will reuse this data.\u001b[0m\n"
          ],
          "name": "stdout"
        },
        {
          "output_type": "stream",
          "text": [
            "WARNING:absl:Warning: Setting shuffle_files=True because split=TRAIN and shuffle_files=None. This behavior will be deprecated on 2019-08-06, at which point shuffle_files=False will be the default for all splits.\n"
          ],
          "name": "stderr"
        }
      ]
    },
    {
      "cell_type": "code",
      "metadata": {
        "id": "h-887WlBYo3b",
        "colab_type": "code",
        "colab": {}
      },
      "source": [
        "class_names = ['T-shirt/top', 'Trouser', 'Pullover', 'Dress', 'Coat',\n",
        "               'Sandal',      'Shirt',   'Sneaker',  'Bag',   'Ankle boot']"
      ],
      "execution_count": 0,
      "outputs": []
    },
    {
      "cell_type": "code",
      "metadata": {
        "id": "1g6noRWJXpBB",
        "colab_type": "code",
        "colab": {
          "base_uri": "https://localhost:8080/",
          "height": 51
        },
        "outputId": "f4c936bc-354c-412e-9dd6-1b0c364dc3cf"
      },
      "source": [
        "num_train_examples = metadata.splits['train'].num_examples\n",
        "num_test_examples = metadata.splits['test'].num_examples\n",
        "print(\"Number of training examples: {}\".format(num_train_examples))\n",
        "print(\"Number of test examples:     {}\".format(num_test_examples))"
      ],
      "execution_count": 8,
      "outputs": [
        {
          "output_type": "stream",
          "text": [
            "Number of training examples: 60000\n",
            "Number of test examples:     10000\n"
          ],
          "name": "stdout"
        }
      ]
    },
    {
      "cell_type": "code",
      "metadata": {
        "id": "lAB0HtLgXlTu",
        "colab_type": "code",
        "colab": {}
      },
      "source": [
        "def normalize(images, labels):\n",
        "  images = tf.cast(images, tf.float32)\n",
        "  images /= 255\n",
        "  return images, labels\n",
        "\n",
        "# The map function applies the normalize function to each element in the train\n",
        "# and test datasets\n",
        "train_dataset =  train_dataset.map(normalize)\n",
        "test_dataset  =  test_dataset.map(normalize) "
      ],
      "execution_count": 0,
      "outputs": []
    },
    {
      "cell_type": "code",
      "metadata": {
        "id": "2TjEegn3Zo-C",
        "colab_type": "code",
        "colab": {
          "base_uri": "https://localhost:8080/",
          "height": 269
        },
        "outputId": "41d846c3-f727-42b3-9909-f0bcd3856cb1"
      },
      "source": [
        "# Take a single image, and remove the color dimension by reshaping\n",
        "for image, label in test_dataset.take(1):\n",
        "  break\n",
        "image = image.numpy().reshape((28,28))\n",
        "\n",
        "# Plot the image - voila a piece of fashion clothing\n",
        "plt.figure()\n",
        "plt.imshow(image, cmap=plt.cm.binary)\n",
        "plt.colorbar()\n",
        "plt.grid(False)\n",
        "plt.show()"
      ],
      "execution_count": 13,
      "outputs": [
        {
          "output_type": "display_data",
          "data": {
            "image/png": "[encoded data removed]",
            "text/plain": [
              "<Figure size 432x288 with 2 Axes>"
            ]
          },
          "metadata": {
            "tags": []
          }
        }
      ]
    },
    {
      "cell_type": "code",
      "metadata": {
        "id": "Vlq498IfZ7GX",
        "colab_type": "code",
        "colab": {
          "base_uri": "https://localhost:8080/",
          "height": 592
        },
        "outputId": "6ad6dd81-3246-4dce-9895-2214f4ae62af"
      },
      "source": [
        "plt.figure(figsize=(10,10))\n",
        "i = 0\n",
        "for (image, label) in test_dataset.take(25):\n",
        "    image = image.numpy().reshape((28,28))\n",
        "    plt.subplot(5,5,i+1)\n",
        "    plt.xticks([])\n",
        "    plt.yticks([])\n",
        "    plt.grid(False)\n",
        "    plt.imshow(image, cmap=plt.cm.binary)\n",
        "    plt.xlabel(class_names[label])\n",
        "    i += 1\n",
        "plt.show()"
      ],
      "execution_count": 14,
      "outputs": [
        {
          "output_type": "display_data",
          "data": {
            "image/png": "[encoded data removed]",
            "text/plain": [
              "<Figure size 720x720 with 25 Axes>"
            ]
          },
          "metadata": {
            "tags": []
          }
        }
      ]
    },
    {
      "cell_type": "code",
      "metadata": {
        "id": "2EEj8WALZ2gI",
        "colab_type": "code",
        "colab": {}
      },
      "source": [
        "model = tf.keras.Sequential([\n",
        "    tf.keras.layers.Flatten(input_shape = (28,28,1)),\n",
        "    tf.keras.layers.Dense(128, activation = tf.nn.relu),\n",
        "    tf.keras.layers.Dense(10, activation = tf.nn.softmax)\n",
        "])"
      ],
      "execution_count": 0,
      "outputs": []
    },
    {
      "cell_type": "code",
      "metadata": {
        "id": "4BQuo7g8ZwbC",
        "colab_type": "code",
        "colab": {}
      },
      "source": [
        "model.compile(optimizer='adam',\n",
        "              loss='sparse_categorical_crossentropy',\n",
        "              metrics=['accuracy'])"
      ],
      "execution_count": 0,
      "outputs": []
    },
    {
      "cell_type": "code",
      "metadata": {
        "id": "Va-V1dyybBRR",
        "colab_type": "code",
        "colab": {}
      },
      "source": [
        "BATCH_SIZE = 32\n",
        "train_dataset = train_dataset.repeat().shuffle(num_train_examples).batch(BATCH_SIZE)\n",
        "test_dataset = test_dataset.batch(BATCH_SIZE)"
      ],
      "execution_count": 0,
      "outputs": []
    },
    {
      "cell_type": "code",
      "metadata": {
        "id": "jP3MQisKbqGT",
        "colab_type": "code",
        "colab": {
          "base_uri": "https://localhost:8080/",
          "height": 204
        },
        "outputId": "adb6db7c-8f1c-49aa-f0ad-55072f9ac02c"
      },
      "source": [
        "model.fit(train_dataset, epochs=5, steps_per_epoch=math.ceil(num_train_examples/BATCH_SIZE))"
      ],
      "execution_count": 19,
      "outputs": [
        {
          "output_type": "stream",
          "text": [
            "Epoch 1/5\n",
            "1875/1875 [==============================] - 33s 18ms/step - loss: 0.4963 - acc: 0.8253\n",
            "Epoch 2/5\n",
            "1875/1875 [==============================] - 21s 11ms/step - loss: 0.3706 - acc: 0.8665\n",
            "Epoch 3/5\n",
            "1875/1875 [==============================] - 21s 11ms/step - loss: 0.3323 - acc: 0.8777\n",
            "Epoch 4/5\n",
            "1875/1875 [==============================] - 21s 11ms/step - loss: 0.3140 - acc: 0.8837\n",
            "Epoch 5/5\n",
            "1875/1875 [==============================] - 21s 11ms/step - loss: 0.2978 - acc: 0.8904\n"
          ],
          "name": "stdout"
        },
        {
          "output_type": "execute_result",
          "data": {
            "text/plain": [
              "<tensorflow.python.keras.callbacks.History at 0x7f63f7c277b8>"
            ]
          },
          "metadata": {
            "tags": []
          },
          "execution_count": 19
        }
      ]
    },
    {
      "cell_type": "code",
      "metadata": {
        "id": "gTGzILlxb3S6",
        "colab_type": "code",
        "colab": {
          "base_uri": "https://localhost:8080/",
          "height": 51
        },
        "outputId": "ce3b705a-7c55-4930-9601-a83aa3af4f11"
      },
      "source": [
        "test_loss, test_accuracy = model.evaluate(test_dataset, steps=math.ceil(num_test_examples/32))\n",
        "print('Accuracy on test dataset:', test_accuracy)"
      ],
      "execution_count": 20,
      "outputs": [
        {
          "output_type": "stream",
          "text": [
            "313/313 [==============================] - 3s 9ms/step - loss: 0.3576 - acc: 0.8723\n",
            "Accuracy on test dataset: 0.8723\n"
          ],
          "name": "stdout"
        }
      ]
    },
    {
      "cell_type": "code",
      "metadata": {
        "id": "L8rvwfJbcb8P",
        "colab_type": "code",
        "colab": {}
      },
      "source": [
        "for test_images, test_labels in test_dataset.take(1):\n",
        "  test_images = test_images.numpy()\n",
        "  test_labels = test_labels.numpy()\n",
        "  predictions = model.predict(test_images)"
      ],
      "execution_count": 0,
      "outputs": []
    },
    {
      "cell_type": "code",
      "metadata": {
        "id": "kL7X0An_c7qh",
        "colab_type": "code",
        "colab": {
          "base_uri": "https://localhost:8080/",
          "height": 34
        },
        "outputId": "31543e5a-5d17-4df0-8837-b2e518afa2c8"
      },
      "source": [
        "predictions.shape"
      ],
      "execution_count": 22,
      "outputs": [
        {
          "output_type": "execute_result",
          "data": {
            "text/plain": [
              "(32, 10)"
            ]
          },
          "metadata": {
            "tags": []
          },
          "execution_count": 22
        }
      ]
    },
    {
      "cell_type": "code",
      "metadata": {
        "id": "po7A4qzedAA2",
        "colab_type": "code",
        "colab": {
          "base_uri": "https://localhost:8080/",
          "height": 68
        },
        "outputId": "a57639f6-cc8f-4af8-afc8-b745555d7292"
      },
      "source": [
        "predictions[0\n",
        "           ]"
      ],
      "execution_count": 23,
      "outputs": [
        {
          "output_type": "execute_result",
          "data": {
            "text/plain": [
              "array([3.0886120e-05, 9.4348721e-08, 4.9123382e-03, 1.7183494e-04,\n",
              "       4.6859805e-02, 2.7379423e-09, 9.4802201e-01, 8.0751783e-10,\n",
              "       2.9599125e-06, 1.0367079e-08], dtype=float32)"
            ]
          },
          "metadata": {
            "tags": []
          },
          "execution_count": 23
        }
      ]
    },
    {
      "cell_type": "code",
      "metadata": {
        "id": "LUHH1wz_dNSC",
        "colab_type": "code",
        "colab": {
          "base_uri": "https://localhost:8080/",
          "height": 34
        },
        "outputId": "a57f458e-434e-4f36-c6b5-ce4bc97dcd17"
      },
      "source": [
        "np.argmax(predictions[0])"
      ],
      "execution_count": 24,
      "outputs": [
        {
          "output_type": "execute_result",
          "data": {
            "text/plain": [
              "6"
            ]
          },
          "metadata": {
            "tags": []
          },
          "execution_count": 24
        }
      ]
    },
    {
      "cell_type": "code",
      "metadata": {
        "id": "WYadIjJpdc-G",
        "colab_type": "code",
        "colab": {
          "base_uri": "https://localhost:8080/",
          "height": 34
        },
        "outputId": "c254c56b-f137-4017-cce1-1fd29a82cdbb"
      },
      "source": [
        "test_labels[0]"
      ],
      "execution_count": 26,
      "outputs": [
        {
          "output_type": "execute_result",
          "data": {
            "text/plain": [
              "6"
            ]
          },
          "metadata": {
            "tags": []
          },
          "execution_count": 26
        }
      ]
    },
    {
      "cell_type": "code",
      "metadata": {
        "id": "9PEfcL4KdgB8",
        "colab_type": "code",
        "colab": {}
      },
      "source": [
        "def plot_image(i, predictions_array, true_labels, images):\n",
        "  predictions_array, true_label, img = predictions_array[i], true_labels[i], images[i]\n",
        "  plt.grid(False)\n",
        "  plt.xticks([])\n",
        "  plt.yticks([])\n",
        "  \n",
        "  plt.imshow(img[...,0], cmap=plt.cm.binary)\n",
        "\n",
        "  predicted_label = np.argmax(predictions_array)\n",
        "  if predicted_label == true_label:\n",
        "    color = 'blue'\n",
        "  else:\n",
        "    color = 'red'\n",
        "  \n",
        "  plt.xlabel(\"{} {:2.0f}% ({})\".format(class_names[predicted_label],\n",
        "                                100*np.max(predictions_array),\n",
        "                                class_names[true_label]),\n",
        "                                color=color)\n",
        "\n",
        "def plot_value_array(i, predictions_array, true_label):\n",
        "  predictions_array, true_label = predictions_array[i], true_label[i]\n",
        "  plt.grid(False)\n",
        "  plt.xticks([])\n",
        "  plt.yticks([])\n",
        "  thisplot = plt.bar(range(10), predictions_array, color=\"#777777\")\n",
        "  plt.ylim([0, 1]) \n",
        "  predicted_label = np.argmax(predictions_array)\n",
        "  \n",
        "  thisplot[predicted_label].set_color('red')\n",
        "  thisplot[true_label].set_color('blue')"
      ],
      "execution_count": 0,
      "outputs": []
    },
    {
      "cell_type": "code",
      "metadata": {
        "id": "wh8mjHZzduK1",
        "colab_type": "code",
        "colab": {
          "base_uri": "https://localhost:8080/",
          "height": 206
        },
        "outputId": "87015d7b-9147-4024-9db0-f99fa8508035"
      },
      "source": [
        "i = 0\n",
        "plt.figure(figsize=(6,3))\n",
        "plt.subplot(1,2,1)\n",
        "plot_image(i, predictions, test_labels, test_images)\n",
        "plt.subplot(1,2,2)\n",
        "plot_value_array(i, predictions, test_labels)"
      ],
      "execution_count": 28,
      "outputs": [
        {
          "output_type": "display_data",
          "data": {
            "image/png": "[encoded data removed]",
            "text/plain": [
              "<Figure size 432x216 with 2 Axes>"
            ]
          },
          "metadata": {
            "tags": []
          }
        }
      ]
    },
    {
      "cell_type": "code",
      "metadata": {
        "id": "auYfFFnHdv8T",
        "colab_type": "code",
        "colab": {
          "base_uri": "https://localhost:8080/",
          "height": 206
        },
        "outputId": "9657c149-17d2-4453-861b-5d68016ca3da"
      },
      "source": [
        "i = 12\n",
        "plt.figure(figsize=(6,3))\n",
        "plt.subplot(1,2,1)\n",
        "plot_image(i, predictions, test_labels, test_images)\n",
        "plt.subplot(1,2,2)\n",
        "plot_value_array(i, predictions, test_labels)"
      ],
      "execution_count": 29,
      "outputs": [
        {
          "output_type": "display_data",
          "data": {
            "image/png": "[encoded data removed]",
            "text/plain": [
              "<Figure size 432x216 with 2 Axes>"
            ]
          },
          "metadata": {
            "tags": []
          }
        }
      ]
    },
    {
      "cell_type": "code",
      "metadata": {
        "id": "dBHYknVjd3Y8",
        "colab_type": "code",
        "colab": {
          "base_uri": "https://localhost:8080/",
          "height": 592
        },
        "outputId": "ba191324-a029-4567-f299-31ce9be1e55d"
      },
      "source": [
        "# Plot the first X test images, their predicted label, and the true label\n",
        "# Color correct predictions in blue, incorrect predictions in red\n",
        "num_rows = 5\n",
        "num_cols = 3\n",
        "num_images = num_rows*num_cols\n",
        "plt.figure(figsize=(2*2*num_cols, 2*num_rows))\n",
        "for i in range(num_images):\n",
        "  plt.subplot(num_rows, 2*num_cols, 2*i+1)\n",
        "  plot_image(i, predictions, test_labels, test_images)\n",
        "  plt.subplot(num_rows, 2*num_cols, 2*i+2)\n",
        "  plot_value_array(i, predictions, test_labels)"
      ],
      "execution_count": 30,
      "outputs": [
        {
          "output_type": "display_data",
          "data": {
            "image/png": "[encoded data removed]",
            "text/plain": [
              "<Figure size 864x720 with 30 Axes>"
            ]
          },
          "metadata": {
            "tags": []
          }
        }
      ]
    },
    {
      "cell_type": "code",
      "metadata": {
        "id": "MSeTSuPKd8Ib",
        "colab_type": "code",
        "colab": {}
      },
      "source": [
        ""
      ],
      "execution_count": 0,
      "outputs": []
    }
  ]
}